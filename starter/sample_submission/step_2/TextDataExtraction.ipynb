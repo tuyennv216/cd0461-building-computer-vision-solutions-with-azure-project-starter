{
 "cells": [
  {
   "cell_type": "code",
   "execution_count": null,
   "id": "055db7d9-aac6-44db-90bc-a176968f23bc",
   "metadata": {},
   "outputs": [],
   "source": [
    "import os\n",
    "from azure.core.exceptions import ResourceNotFoundError\n",
    "from azure.ai.formrecognizer import FormRecognierClient\n",
    "from azure.ai.formrecoginzer import FormTrainingClient\n",
    "from azure.core.credentials import AzureKeyCredential"
   ]
  },
  {
   "cell_type": "code",
   "execution_count": null,
   "id": "ade71917-7292-4a78-85ef-b6bf10135a0f",
   "metadata": {},
   "outputs": [],
   "source": [
    "endpoint = \"https://formrecognizeruda1.cognitiveservices.azure.com/\"\n",
    "key = \"ccc106cb05fd460083d2af93ad15b7ec\""
   ]
  },
  {
   "cell_type": "code",
   "execution_count": null,
   "id": "a5496717-54fc-4db1-9a63-3356cd79b85c",
   "metadata": {},
   "outputs": [],
   "source": [
    "training = FormTrainingClient(endpoint=endpoint, credential=AzureKeyCredential(key))"
   ]
  },
  {
   "cell_type": "code",
   "execution_count": null,
   "id": "b27769a1-e611-4e5f-91a8-28f97c339fce",
   "metadata": {},
   "outputs": [],
   "source": [
    "model_list = training.list_custom_models()"
   ]
  }
 ],
 "metadata": {
  "kernelspec": {
   "display_name": "Python 3 (ipykernel)",
   "language": "python",
   "name": "python3"
  },
  "language_info": {
   "codemirror_mode": {
    "name": "ipython",
    "version": 3
   },
   "file_extension": ".py",
   "mimetype": "text/x-python",
   "name": "python",
   "nbconvert_exporter": "python",
   "pygments_lexer": "ipython3",
   "version": "3.10.9"
  }
 },
 "nbformat": 4,
 "nbformat_minor": 5
}
